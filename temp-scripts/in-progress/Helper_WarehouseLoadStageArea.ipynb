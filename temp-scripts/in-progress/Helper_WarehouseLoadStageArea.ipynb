{
    "metadata": {
        "kernelspec": {
            "name": "SQL",
            "display_name": "SQL",
            "language": "sql"
        },
        "language_info": {
            "name": "sql",
            "version": ""
        }
    },
    "nbformat_minor": 2,
    "nbformat": 4,
    "cells": [
        {
            "cell_type": "markdown",
            "source": [
                "Start work with setuping working table"
            ],
            "metadata": {
                "azdata_cell_guid": "e90588ba-531d-4feb-aab3-34ac4ee0df48"
            },
            "attachments": {}
        },
        {
            "cell_type": "code",
            "source": [
                "USE WarehouseStageArea;\r\n",
                "DECLARE @CurrentTableInWork AS INT = 1;\r\n",
                "\r\n",
                "UPDATE Integration.PackageExecutions\r\n",
                "SET Message = 'ssis development in progress'\r\n",
                "WHERE  PackageExecutionId = @CurrentTableInWork\r\n",
                "\r\n",
                "select *\r\n",
                "from Integration.PackageExecutions\r\n",
                "where Message = 'ssis development in progress'"
            ],
            "metadata": {
                "azdata_cell_guid": "4f333cca-1f9a-4ac4-bee4-9942cf819b3b",
                "tags": []
            },
            "outputs": [
                {
                    "output_type": "display_data",
                    "data": {
                        "text/html": "(1 row affected)"
                    },
                    "metadata": {}
                },
                {
                    "output_type": "display_data",
                    "data": {
                        "text/html": "(1 row affected)"
                    },
                    "metadata": {}
                },
                {
                    "output_type": "display_data",
                    "data": {
                        "text/html": "Total execution time: 00:00:00.017"
                    },
                    "metadata": {}
                },
                {
                    "output_type": "execute_result",
                    "metadata": {},
                    "execution_count": 2,
                    "data": {
                        "application/vnd.dataresource+json": {
                            "schema": {
                                "fields": [
                                    {
                                        "name": "PackageExecutionId"
                                    },
                                    {
                                        "name": "UserName"
                                    },
                                    {
                                        "name": "LastSuccessfulExtractionDatetime"
                                    },
                                    {
                                        "name": "CurrentExtractionDateTime"
                                    },
                                    {
                                        "name": "TableName"
                                    },
                                    {
                                        "name": "Message"
                                    },
                                    {
                                        "name": "ValidFrom"
                                    },
                                    {
                                        "name": "ValidTo"
                                    }
                                ]
                            },
                            "data": [
                                {
                                    "0": "1",
                                    "1": "oranta\\bezvershuk_do",
                                    "2": "2010-01-01 00:00:00.0000000",
                                    "3": "2010-01-01 00:00:00.0000000",
                                    "4": "Uran.Claims",
                                    "5": "ssis development in progress",
                                    "6": "2021-11-11 22:24:58.1723669",
                                    "7": "9999-12-31 23:59:59.9999999"
                                }
                            ]
                        },
                        "text/html": [
                            "<table>",
                            "<tr><th>PackageExecutionId</th><th>UserName</th><th>LastSuccessfulExtractionDatetime</th><th>CurrentExtractionDateTime</th><th>TableName</th><th>Message</th><th>ValidFrom</th><th>ValidTo</th></tr>",
                            "<tr><td>1</td><td>oranta\\bezvershuk_do</td><td>2010-01-01 00:00:00.0000000</td><td>2010-01-01 00:00:00.0000000</td><td>Uran.Claims</td><td>ssis development in progress</td><td>2021-11-11 22:24:58.1723669</td><td>9999-12-31 23:59:59.9999999</td></tr>",
                            "</table>"
                        ]
                    }
                }
            ],
            "execution_count": 2
        },
        {
            "cell_type": "markdown",
            "source": [
                "### General\r\n",
                "| General      | VariableName |\r\n",
                "| ----------- | ----------- |\r\n",
                "| Name      | GetLastSuccesfulLoadDate       |\r\n",
                "| CodePage      | 1251       |\r\n",
                "| ResultSet      | Single row      |\r\n",
                "\r\n",
                "### Result Set View\r\n",
                "| ResultName      | VariableName |\r\n",
                "| ----------- | ----------- |\r\n",
                "| LastSuccessfulExtractionDatetime      | Claims::LastSuccessfulExtraction       |\r\n",
                "| CurrentExtractionDateTime   | Claims::CurrentExtraction        |"
            ],
            "metadata": {
                "azdata_cell_guid": "d2520fab-62c1-4fb3-8a49-8b66c07a9bc8"
            }
        },
        {
            "cell_type": "code",
            "source": [
                "-- execute SQL TASK GetLastSuccesfulLoadDate\r\n",
                "-- codepage 1251\r\n",
                "-- ResultSet: SINGLEROW\r\n",
                "\r\n",
                "DECLARE @tableName NVARCHAR(250) = N'Uran.Claims'\r\n",
                "EXEC [Integration].[sp_GetExtractionPeriod] @tableName\r\n",
                ""
            ],
            "metadata": {
                "azdata_cell_guid": "689d4c5c-4879-4790-b8b1-377270f6f12b",
                "tags": []
            },
            "outputs": [
                {
                    "output_type": "display_data",
                    "data": {
                        "text/html": "Commands completed successfully."
                    },
                    "metadata": {}
                },
                {
                    "output_type": "display_data",
                    "data": {
                        "text/html": "Total execution time: 00:00:00.010"
                    },
                    "metadata": {}
                },
                {
                    "output_type": "execute_result",
                    "metadata": {},
                    "execution_count": 4,
                    "data": {
                        "application/vnd.dataresource+json": {
                            "schema": {
                                "fields": [
                                    {
                                        "name": "LastSuccessfulExtractionDatetime"
                                    },
                                    {
                                        "name": "CurrentExtractionDateTime"
                                    }
                                ]
                            },
                            "data": [
                                {
                                    "0": "2010-01-01 00:00:00.0000000",
                                    "1": "2021-11-11 00:00:00.0000000"
                                }
                            ]
                        },
                        "text/html": [
                            "<table>",
                            "<tr><th>LastSuccessfulExtractionDatetime</th><th>CurrentExtractionDateTime</th></tr>",
                            "<tr><td>2010-01-01 00:00:00.0000000</td><td>2021-11-11 00:00:00.0000000</td></tr>",
                            "</table>"
                        ]
                    }
                }
            ],
            "execution_count": 4
        },
        {
            "cell_type": "markdown",
            "source": [
                "На продуктовом сервере есть вспомогательная таблица для генерации кода.\n",
                "\n",
                "Для схемы `dbo` достаточно вставить имя оперируемой таблицы \n",
                "\n",
                "``` sql\n",
                "INSERT INTO [tmp].[IntegrationServicesInfo] ([TableSchema], [TableName], [LogTableSchema])\n",
                "VALUES ('dbo', 'Claims', 'log')\n",
                "```\n",
                "\n",
                "Скрипт генерации селекта:\n",
                "\n",
                "```sql\n",
                "DECLARE @Script as nvarchar(max) = ''\n",
                "\n",
                "SELECT @Script = [Script1Part1] + '\n",
                "' + Script1Part2  + TableSchema + '.' + [TableName] + Script1Part3 + [LogTableSchema] + '.' + [TableName] + [Script1Part4]\n",
                "FROM [Oberon].[tmp].[IntegrationServicesInfo]\n",
                "WHERE Id = 1\n",
                "\n",
                "print @Script\n",
                "```\n",
                "```sql\n",
                "SELECT 'src.' + COLUMN_NAME + ',\n",
                "'\n",
                "FROM INFORMATION_SCHEMA.COLUMNS\n",
                "WHERE TABLE_NAME = 'Claims' AND TABLE_SCHEMA = 'dbo'\n",
                "ORDER BY ORDINAL_POSITION\n",
                "```\n",
                "\n",
                "```sql\n",
                "SELECT * \n",
                "FROM (\n",
                "SELECT 'MainData.' + COLUMN_NAME + ',\n",
                "' AS ColumnName\n",
                "FROM INFORMATION_SCHEMA.COLUMNS\n",
                "WHERE TABLE_NAME = 'Claims' AND TABLE_SCHEMA = 'dbo'\n",
                ") AS Main\n",
                "UNION ALL\n",
                "SELECT \t'MainData.LogCreateDate,' AS ColumnName\n",
                "UNION ALL\n",
                "SELECT \t'MainData.LogActionDate,' AS ColumnName\n",
                "UNION ALL\n",
                "SELECT \t'MainData.SourceIdentity,' AS ColumnName\n",
                "UNION ALL\n",
                "SELECT \t'MainData.LoadDatetime' AS ColumnName\n",
                "```\n",
                "\n",
                "Сгенерированный скрипт для одной таблицы можно сохранить сразу в файл с расширением SQL\n",
                ""
            ],
            "metadata": {
                "azdata_cell_guid": "5df1f676-1023-4a71-9adf-9153e1b666d9"
            },
            "attachments": {}
        }
    ]
}